{
 "cells": [
  {
   "metadata": {},
   "cell_type": "markdown",
   "source": [
    "# This is a sample Jupyter Notebook\n",
    "\n",
    "Below is an example of a code cell. \n",
    "Put your cursor into the cell and press Shift+Enter to execute it and select the next one, or click 'Run Cell' button.\n",
    "\n",
    "Press Double Shift to search everywhere for classes, files, tool windows, actions, and settings.\n",
    "\n",
    "To learn more about Jupyter Notebooks in PyCharm, see [help](https://www.jetbrains.com/help/pycharm/ipython-notebook-support.html).\n",
    "For an overview of PyCharm, go to Help -> Learn IDE features or refer to [our documentation](https://www.jetbrains.com/help/pycharm/getting-started.html)."
   ],
   "id": "8a77807f92f26ee"
  },
  {
   "metadata": {
    "ExecuteTime": {
     "end_time": "2025-06-18T18:10:05.273240Z",
     "start_time": "2025-06-18T18:09:38.896192Z"
    }
   },
   "cell_type": "code",
   "source": [
    "import matplotlib.pyplot as plt\n",
    "import pandas as pd\n",
    "import numpy as np\n",
    "arr = np.genfromtxt('data/Boston.csv', delimiter=',', names=True, dtype=None, encoding='utf-8')\n",
    "Y_Train = arr[\"MEDV\"]\n",
    "fields = list(arr.dtype.names)\n",
    "fields.remove('MEDV')\n",
    "X_Train = arr[fields]\n",
    "calculated_costs = []\n",
    "\n",
    "wList = [1 for i in range(len(fields))]\n",
    "b = 0\n",
    "a = 0.00001\n",
    "def model(wList, fields, xValues, b):\n",
    "    answer = b\n",
    "    for i in range(len(wList)):\n",
    "        answer += wList[i] * xValues[fields[i]]\n",
    "    return answer\n",
    "\n",
    "def calcWeights(wList, X_Train, Y_Train, fields, b, a):\n",
    "    newWList = wList\n",
    "    for i in range(len(wList)):\n",
    "        derW = 0\n",
    "        for j, value in enumerate(X_Train[fields[i]]):\n",
    "            xj = X_Train[j]\n",
    "            pred = model(wList, fields, xj, b)\n",
    "            err = pred - Y_Train[j]\n",
    "            derW += err * value\n",
    "\n",
    "        derW /= len(X_Train[fields[i]])\n",
    "        newWList[i] = newWList[i] - a*derW\n",
    "\n",
    "    derB = 0\n",
    "    for j, value in enumerate(X_Train):\n",
    "        derB += model(wList, fields, value, b) - Y_Train[j]\n",
    "\n",
    "    derB /= len(X_Train)\n",
    "    b = b - a*derB\n",
    "    return (newWList, b)\n",
    "def costFunc(wList, X_Train, Y_Train, fields, b):\n",
    "    m = X_Train.shape[0]\n",
    "    answer = 0\n",
    "    for j, value in enumerate(X_Train):\n",
    "        answer += (model(wList, fields, value, b) - Y_Train[j]) ** 2\n",
    "    answer /= 2*m\n",
    "    return answer\n",
    "\n",
    "def main(wList, X_Train, Y_Train, fields, b, a):\n",
    "    iterations = 1000\n",
    "    for i in range(iterations):\n",
    "        iteration = calcWeights(wList, X_Train, Y_Train, fields, b, a)\n",
    "        wList, b = iteration\n",
    "        calculated_costs.append(costFunc(wList, X_Train, Y_Train, fields, b))\n",
    "\n",
    "\n",
    "\n",
    "main(wList, X_Train, Y_Train, fields, b, a)\n",
    "plt.plot(calculated_costs)\n",
    "print(wList)\n",
    "print(calculated_costs[-1])\n",
    "print(b)\n"
   ],
   "id": "fbc121e30a2defb3",
   "outputs": [
    {
     "name": "stdout",
     "output_type": "stream",
     "text": [
      "[0.49887798428336055, 0.18799115490560184, 0.830135841350553, 1.0027334389886111, 0.9944468934228347, 0.9812313753936915, -0.06053743767747146, 0.921495445638832, 0.9440389925123096, -0.09660747269581009, 0.8625230152094593, 0.03289854196855428, 0.47106523452980215]\n",
      "70.95987126384676\n",
      "0\n"
     ]
    },
    {
     "data": {
      "text/plain": [
       "<Figure size 640x480 with 1 Axes>"
      ],
      "image/png": "[encoded data removed]"
     },
     "metadata": {},
     "output_type": "display_data"
    }
   ],
   "execution_count": 4
  },
  {
   "metadata": {
    "ExecuteTime": {
     "end_time": "2025-05-25T06:22:10.420981Z",
     "start_time": "2025-05-25T06:22:10.419576Z"
    }
   },
   "cell_type": "code",
   "source": "",
   "id": "1f79fca7204a8033",
   "outputs": [],
   "execution_count": null
  },
  {
   "metadata": {},
   "cell_type": "code",
   "outputs": [],
   "execution_count": null,
   "source": "",
   "id": "9467fc00d176062b"
  }
 ],
 "metadata": {
  "kernelspec": {
   "display_name": "Python 3",
   "language": "python",
   "name": "python3"
  },
  "language_info": {
   "codemirror_mode": {
    "name": "ipython",
    "version": 2
   },
   "file_extension": ".py",
   "mimetype": "text/x-python",
   "name": "python",
   "nbconvert_exporter": "python",
   "pygments_lexer": "ipython2",
   "version": "2.7.6"
  }
 },
 "nbformat": 4,
 "nbformat_minor": 5
}

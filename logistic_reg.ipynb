{
 "cells": [
  {
   "cell_type": "code",
   "id": "initial_id",
   "metadata": {
    "collapsed": true,
    "ExecuteTime": {
     "end_time": "2025-06-23T19:22:30.475332Z",
     "start_time": "2025-06-23T19:22:30.195901Z"
    }
   },
   "source": [
    "import matplotlib.pyplot as plt\n",
    "import numpy as np\n",
    "\n",
    "\n",
    "class LogisticRegression:\n",
    "    def __init__(self, csv_path, y_column_name):\n",
    "        self.fields = np.loadtxt(csv_path, delimiter=',', max_rows=1, dtype=str)\n",
    "        self.np_data_arr = np.loadtxt(csv_path, delimiter=',', skiprows=1,dtype=float)\n",
    "        self.Y_train = self.np_data_arr[:, np.where(self.fields == y_column_name)[0]].flatten()\n",
    "        self.X_train = np.delete(self.np_data_arr, np.where(self.fields == y_column_name)[0], 1)\n",
    "        self.alpha = .001\n",
    "        self.colCount = self.X_train.shape[1]\n",
    "        self.w_list = np.array([1.0 for i in range(self.colCount)])\n",
    "        self.b = 0.0\n",
    "        self.costs = []\n",
    "        self.max = [self.X_train[:,i].max() for i in range(self.colCount)]\n",
    "        for i in range(self.colCount):\n",
    "            self.X_train[:,i] /= self.max[i]\n",
    "\n",
    "    def __str__(self):\n",
    "        plt.plot(self.costs)\n",
    "        return f'Coefficients: {self.w_list}\\nB: {self.b}\\nLearning rate {self.alpha}\\nLowest cost: {self.costs[-1]}'\n",
    "\n",
    "    def set_alpha(self, alpha):\n",
    "        self.alpha = alpha\n",
    "\n",
    "    def sigmoid(self,z):\n",
    "        return 1/(1 + np.exp(-z))\n",
    "    def predict(self,x, scaled = True):\n",
    "        if not scaled:\n",
    "            for i in range(x.shape[1]):\n",
    "                x[:,i] /= self.max[i]\n",
    "        return self.sigmoid(np.matmul(x,self.w_list) + self.b)\n",
    "\n",
    "    def cost(self,g):\n",
    "        m = self.X_train.shape[0]\n",
    "        return -(np.sum(self.Y_train * np.log(g) + (1 - self.Y_train) * np.log(1-g)))/m\n",
    "\n",
    "    def _update(self):\n",
    "        m = self.X_train.shape[0]\n",
    "        g = self.predict(self.X_train)\n",
    "        err = g - self.Y_train\n",
    "        dj_db = np.sum(err)/m\n",
    "        dj_dw = (self.X_train.T @ err)/m\n",
    "        self.w_list = self.w_list - (self.alpha * dj_dw)\n",
    "        self.b = self.b - (self.alpha * dj_db)\n",
    "        self.costs.append(self.cost(g))\n",
    "        return self.w_list, self.b\n",
    "\n",
    "    def train(self,iterations):\n",
    "        for i in range(iterations):\n",
    "            self.w_list, self.b = self._update()\n",
    "        return True\n",
    "\n",
    "if __name__ == '__main__':\n",
    "    l = LogisticRegression(csv_path='data/diabetes.csv', y_column_name='Outcome')\n",
    "    l.set_alpha(0.01)\n",
    "    l.train(10000)\n",
    "    print(l.predict(np.array([[10,115,0,0,0,35.3,0.134,29]])))\n",
    "    print(l)\n",
    "\n",
    "\n",
    "\n",
    "\n",
    "\n"
   ],
   "outputs": [
    {
     "name": "stdout",
     "output_type": "stream",
     "text": [
      "[1.]\n",
      "Coefficients: [ 1.31700739  1.82239411 -0.46094279  0.39660313  0.87813235  0.83697635\n",
      "  1.01349266  0.74174499]\n",
      "B: -2.8239780463541657\n",
      "Learning rate 0.01\n",
      "Lowest cost: 0.5465660738292198\n"
     ]
    },
    {
     "data": {
      "text/plain": [
       "<Figure size 640x480 with 1 Axes>"
      ],
      "image/png": "[encoded data removed]"
     },
     "metadata": {},
     "output_type": "display_data"
    }
   ],
   "execution_count": 31
  },
  {
   "metadata": {},
   "cell_type": "code",
   "outputs": [],
   "execution_count": null,
   "source": "",
   "id": "a923db5e81cb0281"
  }
 ],
 "metadata": {
  "kernelspec": {
   "display_name": "Python 3",
   "language": "python",
   "name": "python3"
  },
  "language_info": {
   "codemirror_mode": {
    "name": "ipython",
    "version": 2
   },
   "file_extension": ".py",
   "mimetype": "text/x-python",
   "name": "python",
   "nbconvert_exporter": "python",
   "pygments_lexer": "ipython2",
   "version": "2.7.6"
  }
 },
 "nbformat": 4,
 "nbformat_minor": 5
}

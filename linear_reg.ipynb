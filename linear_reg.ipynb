{
 "cells": [
  {
   "cell_type": "code",
   "id": "initial_id",
   "metadata": {
    "collapsed": true,
    "ExecuteTime": {
     "end_time": "2025-06-18T18:33:53.471243Z",
     "start_time": "2025-06-18T18:33:49.514656Z"
    }
   },
   "source": [
    "import matplotlib.pyplot as plt\n",
    "import numpy as np\n",
    "\n",
    "\n",
    "class LinearRegression:\n",
    "    def __init__(self, csv_path, y_column_name):\n",
    "        self.fields = np.loadtxt(csv_path, delimiter=',', max_rows=1, dtype=str)\n",
    "        self.np_data_arr = np.loadtxt(csv_path, delimiter=',', skiprows=1,dtype=float)\n",
    "        self.Y_train = self.np_data_arr[:, np.where(self.fields == y_column_name)[0]].flatten()\n",
    "        self.X_train = np.delete(self.np_data_arr, np.where(self.fields == y_column_name)[0], 1)\n",
    "        self.alpha = .001\n",
    "        self.colCount = self.X_train.shape[1]\n",
    "        self.w_list = np.array([1.0 for i in range(self.colCount)])\n",
    "        self.b = 0.0\n",
    "        self.costs = []\n",
    "        self.max = [self.X_train[:,i].max() for i in range(self.colCount)]\n",
    "        for i in range(self.colCount):\n",
    "            self.X_train[:,i] /= self.max[i]\n",
    "\n",
    "    def __str__(self):\n",
    "        plt.plot(self.costs)\n",
    "        return f'Coefficients: {self.w_list}\\nB: {self.b}\\nLearning rate {self.alpha}\\nLowest cost: {self.costs[-1]}'\n",
    "\n",
    "    def set_alpha(self, alpha):\n",
    "        self.alpha = alpha\n",
    "\n",
    "    def predict(self, input_values, scaled = True):\n",
    "        answer = self.b\n",
    "        if not scaled:\n",
    "            for i in range(len(input_values)):\n",
    "                input_values[i] = input_values[i] / self.max[i]\n",
    "        answer += np.dot(input_values, self.w_list)\n",
    "        return answer\n",
    "\n",
    "    def _cost(self):\n",
    "        m = self.X_train.shape[0]\n",
    "        answer = 0\n",
    "        for j, value in enumerate(self.X_train):\n",
    "            answer += (self.predict(value) - self.Y_train[j]) ** 2\n",
    "        answer /= 2*m\n",
    "        return answer\n",
    "\n",
    "    def _update(self):\n",
    "        new_w_list = self.w_list.copy()\n",
    "        for i in range(len(self.w_list)):\n",
    "            w_derivative = 0\n",
    "            for j, value in enumerate(self.X_train):\n",
    "                pred = self.predict(value)\n",
    "                err = pred - self.Y_train[j]\n",
    "                w_derivative += err * value[i]\n",
    "\n",
    "            w_derivative /= self.X_train.shape[0]\n",
    "            new_w_list[i] = new_w_list[i] - self.alpha * w_derivative\n",
    "\n",
    "        w_derivative = 0\n",
    "        for j, value in enumerate(self.X_train):\n",
    "            w_derivative += self.predict(value) - self.Y_train[j]\n",
    "\n",
    "        w_derivative /= self.X_train.shape[0]\n",
    "        self.b = self.b - self.alpha*w_derivative\n",
    "        return new_w_list, self.b\n",
    "\n",
    "    def train(self,iterations):\n",
    "        for i in range(iterations):\n",
    "            self.w_list, self.b = self._update()\n",
    "            self.costs.append(self._cost())\n",
    "        return True\n",
    "\n",
    "if __name__ == '__main__':\n",
    "    l = LinearRegression(csv_path='data/Boston.csv', y_column_name='MEDV')\n",
    "    l.set_alpha(0.1)\n",
    "    l.train(1000)\n",
    "    l.predict(np.array([0.00632,18.0,2.31,0,0.538,6.575,65.2,4.09,1,296.0,15.3,396.9,4.98]), False)\n",
    "    print(l)\n",
    "\n",
    "\n",
    "\n",
    "\n",
    "\n"
   ],
   "outputs": [
    {
     "name": "stdout",
     "output_type": "stream",
     "text": [
      "Coefficients: [ -3.68423347   5.19754575  -3.52140542   3.95637111   2.89814686\n",
      "  26.56560041   1.43996367  -7.21554049   1.87249312  -3.80087661\n",
      "  -5.13049328   5.27639879 -22.54083228]\n",
      "B: 12.108016257484698\n",
      "Learning rate 0.1\n",
      "Lowest cost: 12.935050499852817\n"
     ]
    },
    {
     "data": {
      "text/plain": [
       "<Figure size 640x480 with 1 Axes>"
      ],
      "image/png": "[encoded data removed]"
     },
     "metadata": {},
     "output_type": "display_data"
    }
   ],
   "execution_count": 31
  },
  {
   "metadata": {},
   "cell_type": "code",
   "outputs": [],
   "execution_count": null,
   "source": "",
   "id": "a923db5e81cb0281"
  }
 ],
 "metadata": {
  "kernelspec": {
   "display_name": "Python 3",
   "language": "python",
   "name": "python3"
  },
  "language_info": {
   "codemirror_mode": {
    "name": "ipython",
    "version": 2
   },
   "file_extension": ".py",
   "mimetype": "text/x-python",
   "name": "python",
   "nbconvert_exporter": "python",
   "pygments_lexer": "ipython2",
   "version": "2.7.6"
  }
 },
 "nbformat": 4,
 "nbformat_minor": 5
}
